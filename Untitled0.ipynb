{
  "nbformat": 4,
  "nbformat_minor": 0,
  "metadata": {
    "colab": {
      "provenance": [],
      "authorship_tag": "ABX9TyOMh0mIhMbUGiA9RoED7Prt",
      "include_colab_link": true
    },
    "kernelspec": {
      "name": "python3",
      "display_name": "Python 3"
    },
    "language_info": {
      "name": "python"
    }
  },
  "cells": [
    {
      "cell_type": "markdown",
      "metadata": {
        "id": "view-in-github",
        "colab_type": "text"
      },
      "source": [
        "<a href=\"https://colab.research.google.com/github/wpghksdnd/UNGNAM/blob/main/Untitled0.ipynb\" target=\"_parent\"><img src=\"https://colab.research.google.com/assets/colab-badge.svg\" alt=\"Open In Colab\"/></a>"
      ]
    },
    {
      "cell_type": "code",
      "execution_count": 5,
      "metadata": {
        "colab": {
          "base_uri": "https://localhost:8080/"
        },
        "id": "GJSgl4VKHxIu",
        "outputId": "d4805a4f-c97a-474f-d73d-68639266ea0b"
      },
      "outputs": [
        {
          "output_type": "stream",
          "name": "stdout",
          "text": [
            "최적의 k: 1\n",
            "최적의 정확도: 1.0\n",
            "테스트 데이터 평가 점수: 1.0\n"
          ]
        }
      ],
      "source": [
        "import pandas as pd\n",
        "from sklearn.model_selection import train_test_split\n",
        "from sklearn.neighbors import KNeighborsClassifier\n",
        "from sklearn.metrics import accuracy_score\n",
        "\n",
        "# 데이터를 불러옵니다.\n",
        "data = pd.read_csv(\"chap11_상권분류.csv\")  # 파일 경로를 정확하게 지정.\n",
        "\n",
        "# 데이터 전처리: 열 이름을 'income', 'cost', 'label'로 변경.\n",
        "data.columns = ['income', 'cost', 'label']\n",
        "\n",
        "# 훈련 데이터와 테스트 데이터로 분리.\n",
        "X = data[['income', 'cost']]\n",
        "y = data['label']\n",
        "\n",
        "X_train, X_test, y_train, y_test = train_test_split(X, y, test_size=0.2, random_state=42)\n",
        "\n",
        "# 최적의 k 값을 검색.\n",
        "best_accuracy = 0\n",
        "best_k = 0\n",
        "\n",
        "for k in range(1, 21):\n",
        "    neigh = KNeighborsClassifier(n_neighbors=k)\n",
        "    neigh.fit(X_train, y_train)\n",
        "    y_pred = neigh.predict(X_test)\n",
        "    accuracy = accuracy_score(y_test, y_pred)\n",
        "\n",
        "    if accuracy > best_accuracy:\n",
        "        best_accuracy = accuracy\n",
        "        best_k = k\n",
        "\n",
        "print(\"최적의 k:\", best_k)\n",
        "print(\"최적의 정확도:\", best_accuracy)\n",
        "\n",
        "# 최적의 k로 K-NN 학습 모델을 만들고 테스트 데이터의 평가 점수를 출력.\n",
        "neigh = KNeighborsClassifier(n_neighbors=best_k)\n",
        "neigh.fit(X_train, y_train)\n",
        "\n",
        "y_pred = neigh.predict(X_test)\n",
        "accuracy = accuracy_score(y_test, y_pred)\n",
        "\n",
        "print(\"테스트 데이터 평가 점수:\", accuracy)\n"
      ]
    }
  ]
}